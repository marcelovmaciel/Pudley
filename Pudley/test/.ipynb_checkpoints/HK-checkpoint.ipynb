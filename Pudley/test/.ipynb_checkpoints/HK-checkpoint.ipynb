{
 "cells": [
  {
   "cell_type": "code",
   "execution_count": 3,
   "metadata": {},
   "outputs": [],
   "source": [
    "import Pkg"
   ]
  },
  {
   "cell_type": "code",
   "execution_count": 4,
   "metadata": {},
   "outputs": [],
   "source": [
    "using Agents\n",
    "using Distributions\n",
    "using LightGraphs\n",
    "using BenchmarkTools\n",
    "using Transducers"
   ]
  },
  {
   "cell_type": "markdown",
   "metadata": {},
   "source": [
    "Hegselmann & Krause (2002)assumed instead that all agents in the population influence each other simultaneously. In their model, everyagentiadopts in one time step the average opinion of all those whose disagreement withidid not exceed  $\\epsilon$ before the interaction. "
   ]
  },
  {
   "cell_type": "code",
   "execution_count": 5,
   "metadata": {},
   "outputs": [
    {
     "data": {
      "text/plain": [
       "hk_model (generic function with 1 method)"
      ]
     },
     "execution_count": 5,
     "metadata": {},
     "output_type": "execute_result"
    }
   ],
   "source": [
    "mutable struct HKAgent{T<:AbstractFloat} <: AbstractAgent\n",
    "    id::Int\n",
    "    old_opinion::T\n",
    "    new_opinion::T\n",
    "end\n",
    "myscheduler(m) = keys(m.agents)\n",
    "\n",
    "function hk_model(;numagents = 100, ϵ=0.3)\n",
    "    model = ABM(HKAgent, scheduler=myscheduler , properties = Dict(:ϵ => ϵ))\n",
    "    for i in 1:numagents\n",
    "        add_agent!(model, rand(), rand())\n",
    "    end\n",
    "    return model\n",
    "end\n"
   ]
  },
  {
   "cell_type": "code",
   "execution_count": 151,
   "metadata": {},
   "outputs": [
    {
     "data": {
      "text/plain": [
       "get_old_opinion (generic function with 1 method)"
      ]
     },
     "execution_count": 151,
     "metadata": {},
     "output_type": "execute_result"
    }
   ],
   "source": [
    "get_old_opinion(agent)::Float64= agent.old_opinion\n",
    "\n",
    "# function agent_step!(agent, model)\n",
    "#     condition(j)= abs(get_old_opinion(agent) - get_old_opinion(j)) ≤  model.properties[:ϵ]\n",
    "#     xfopinion = (Filter( condition ) |> Map(get_old_opinion))\n",
    "#     xfbool = Keep(condition)\n",
    "#     meanopinion = reduce(+, xfopinion, values(model.agents)) / reduce(+, xfbool, values(model.agents))\n",
    "#     return(meanopinion) #agent.new_opinion = \n",
    "# end"
   ]
  },
  {
   "cell_type": "code",
   "execution_count": 168,
   "metadata": {},
   "outputs": [
    {
     "data": {
      "text/plain": [
       "model_step! (generic function with 1 method)"
      ]
     },
     "execution_count": 168,
     "metadata": {},
     "output_type": "execute_result"
    }
   ],
   "source": [
    "function agent_step!(agent, model)\n",
    "    oldopinions = map(get_old_opinion, values(model.agents))\n",
    "    agent.new_opinion =  mean(\n",
    "        filter(j -> abs(get_old_opinion(agent) - j) < model.properties[:ϵ],  oldopinions))\n",
    "end\n",
    "\n",
    "function model_step!(model)\n",
    "    for i in keys(model.agents)\n",
    "        model.agents[i].old_opinion = model.agents[i].new_opinion\n",
    "    end\n",
    "end\n"
   ]
  },
  {
   "cell_type": "code",
   "execution_count": null,
   "metadata": {},
   "outputs": [],
   "source": [
    "model = hk_model(numagents = 1000, ϵ=0.3)\n",
    "when = map(i -> floor(Int, i),\n",
    "           collect(range(0,step= 1000,stop = 20_000)))\n",
    "\n",
    "agent_properties = [:old_opinion]\n",
    "@btime  data = step!(model,\n",
    "             agent_step!,model_step!,\n",
    "              20_000, agent_properties, when = when) "
   ]
  },
  {
   "cell_type": "code",
   "execution_count": null,
   "metadata": {},
   "outputs": [],
   "source": []
  },
  {
   "cell_type": "code",
   "execution_count": null,
   "metadata": {},
   "outputs": [],
   "source": []
  },
  {
   "cell_type": "code",
   "execution_count": null,
   "metadata": {},
   "outputs": [],
   "source": []
  }
 ],
 "metadata": {
  "kernelspec": {
   "display_name": "Julia 1.3.0",
   "language": "julia",
   "name": "julia-1.3"
  },
  "language_info": {
   "file_extension": ".jl",
   "mimetype": "application/julia",
   "name": "julia",
   "version": "1.3.0"
  }
 },
 "nbformat": 4,
 "nbformat_minor": 4
}
