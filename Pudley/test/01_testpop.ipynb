{
 "cells": [
  {
   "cell_type": "code",
   "execution_count": 1,
   "metadata": {},
   "outputs": [],
   "source": [
    "using Agents"
   ]
  },
  {
   "cell_type": "code",
   "execution_count": 2,
   "metadata": {},
   "outputs": [
    {
     "data": {
      "text/plain": [
       "Agent_o"
      ]
     },
     "execution_count": 2,
     "metadata": {},
     "output_type": "execute_result"
    }
   ],
   "source": [
    "mutable struct Agent_o{T1 <: Integer, T2 <: Tuple,\n",
    "    T3 <: Real, T4 <: Real } <: AbstractAgent\n",
    "    id::T1\n",
    "    interval::T2\n",
    "    o::T3\n",
    "    σ::T4\n",
    "end\n",
    "\n",
    "\n",
    "\n",
    "\n",
    "function Agent_o(id::Tint, σ::Treal, interval::Tinter) where {Tint <: Integer,\n",
    "                                                       Treal <: Real,\n",
    "                                                       Tinter <: Tuple}\n",
    "    o = BigFloat(rand(interval[1]:interval[2]))\n",
    "    return(Agent_o(id, interval, o, σ))\n",
    "end\n",
    "\n",
    "\n"
   ]
  },
  {
   "cell_type": "code",
   "execution_count": 7,
   "metadata": {},
   "outputs": [
    {
     "data": {
      "text/plain": [
       "Agent_o{Int64,Tuple{Float64,Float64},BigFloat,Float64}(1, (0.0, 1.0), 0.0, 0.1)"
      ]
     },
     "execution_count": 7,
     "metadata": {},
     "output_type": "execute_result"
    }
   ],
   "source": [
    "Agent_o(1, 0.1, (0.,1.))"
   ]
  },
  {
   "cell_type": "code",
   "execution_count": 8,
   "metadata": {},
   "outputs": [
    {
     "data": {
      "text/plain": [
       "0.0"
      ]
     },
     "execution_count": 8,
     "metadata": {},
     "output_type": "execute_result"
    }
   ],
   "source": [
    "rand(0.0:1.0)"
   ]
  },
  {
   "cell_type": "code",
   "execution_count": 11,
   "metadata": {},
   "outputs": [
    {
     "ename": "ArgumentError",
     "evalue": "ArgumentError: Package StatsBase not found in current path:\n- Run `import Pkg; Pkg.add(\"StatsBase\")` to install the StatsBase package.\n",
     "output_type": "error",
     "traceback": [
      "ArgumentError: Package StatsBase not found in current path:\n- Run `import Pkg; Pkg.add(\"StatsBase\")` to install the StatsBase package.\n",
      "",
      "Stacktrace:",
      " [1] require(::Module, ::Symbol) at ./loading.jl:887",
      " [2] top-level scope at In[11]:1"
     ]
    }
   ],
   "source": [
    "using StatsBase"
   ]
  },
  {
   "cell_type": "code",
   "execution_count": null,
   "metadata": {},
   "outputs": [],
   "source": []
  },
  {
   "cell_type": "code",
   "execution_count": null,
   "metadata": {},
   "outputs": [],
   "source": []
  }
 ],
 "metadata": {
  "kernelspec": {
   "display_name": "Julia 1.3.0",
   "language": "julia",
   "name": "julia-1.3"
  },
  "language_info": {
   "file_extension": ".jl",
   "mimetype": "application/julia",
   "name": "julia",
   "version": "1.3.0"
  }
 },
 "nbformat": 4,
 "nbformat_minor": 2
}
