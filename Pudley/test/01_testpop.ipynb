{
 "cells": [
  {
   "cell_type": "code",
   "execution_count": 142,
   "metadata": {},
   "outputs": [
    {
     "name": "stdout",
     "output_type": "stream",
     "text": [
      "\u001b[32m\u001b[1mActivating\u001b[22m\u001b[39m environment at `/mnt/c/Users/mvmaciel/Desktop/Pudley/Pudley/Project.toml`\n",
      "\u001b[32m\u001b[1mPrecompiling\u001b[22m\u001b[39m project...\n",
      "\u001b[32m\u001b[1mPrecompiling\u001b[22m\u001b[39m Makie\n"
     ]
    },
    {
     "name": "stderr",
     "output_type": "stream",
     "text": [
      "┌ Info: Precompiling Makie [ee78f7c6-11fb-53f2-987a-cfe4a2b5a57a]\n",
      "└ @ Base loading.jl:1273\n",
      "┌ Warning: Loaded OpenGL Backend, but OpenGL isn't working\n",
      "└ @ GLMakie ~/.julia/packages/GLMakie/DK7aq/src/GLMakie.jl:60\n"
     ]
    },
    {
     "name": "stdout",
     "output_type": "stream",
     "text": [
      "\u001b[32m\u001b[1mPrecompiling\u001b[22m\u001b[39m Pudley\n"
     ]
    },
    {
     "name": "stderr",
     "output_type": "stream",
     "text": [
      "┌ Info: Precompiling Pudley [522bdeae-2d8d-4df1-be2c-fb33332a93f2]\n",
      "└ @ Base loading.jl:1273\n"
     ]
    }
   ],
   "source": [
    "import Pkg\n",
    "\n",
    "\n",
    "import Revise\n",
    "\n",
    "Pkg.activate(\"../../Pudley\")\n",
    "Pkg.precompile()"
   ]
  },
  {
   "cell_type": "code",
   "execution_count": 143,
   "metadata": {},
   "outputs": [],
   "source": [
    "import Pudley #,  Pandas, Seaborn\n",
    "const pdl = Pudley\n",
    "using BenchmarkTools"
   ]
  },
  {
   "cell_type": "code",
   "execution_count": 172,
   "metadata": {},
   "outputs": [
    {
     "data": {
      "text/plain": [
       "AgentBasedModel with 200 agents of type Agent_o\n",
       " space: GraphSpace with 200 nodes and 19900 edges\n",
       " scheduler: fastest"
      ]
     },
     "execution_count": 172,
     "metadata": {},
     "output_type": "execute_result"
    }
   ],
   "source": [
    "m = pdl.model_initiation()"
   ]
  },
  {
   "cell_type": "code",
   "execution_count": 171,
   "metadata": {},
   "outputs": [],
   "source": [
    "pdl.pudley_step!(m)"
   ]
  },
  {
   "cell_type": "code",
   "execution_count": null,
   "metadata": {},
   "outputs": [],
   "source": []
  }
 ],
 "metadata": {
  "kernelspec": {
   "display_name": "Julia 1.3.0",
   "language": "julia",
   "name": "julia-1.3"
  },
  "language_info": {
   "file_extension": ".jl",
   "mimetype": "application/julia",
   "name": "julia",
   "version": "1.3.0"
  }
 },
 "nbformat": 4,
 "nbformat_minor": 4
}
