{
 "cells": [
  {
   "cell_type": "code",
   "execution_count": 2,
   "metadata": {},
   "outputs": [
    {
     "name": "stdout",
     "output_type": "stream",
     "text": [
      "\u001b[32m\u001b[1mActivating\u001b[22m\u001b[39m environment at `/mnt/c/Users/mvmaciel/Desktop/Pudley/Pudley/Project.toml`\n",
      "\u001b[32m\u001b[1mPrecompiling\u001b[22m\u001b[39m project...\n",
      "\u001b[32m\u001b[1mPrecompiling\u001b[22m\u001b[39m Pudley\n"
     ]
    },
    {
     "name": "stderr",
     "output_type": "stream",
     "text": [
      "┌ Info: Precompiling Pudley [522bdeae-2d8d-4df1-be2c-fb33332a93f2]\n",
      "└ @ Base loading.jl:1273\n"
     ]
    }
   ],
   "source": [
    "import Pkg\n",
    "\n",
    "\n",
    "import Revise\n",
    "\n",
    "Pkg.activate(\"../../Pudley\")\n",
    "Pkg.precompile()"
   ]
  },
  {
   "cell_type": "code",
   "execution_count": 20,
   "metadata": {},
   "outputs": [
    {
     "name": "stderr",
     "output_type": "stream",
     "text": [
      "┌ Info: Precompiling BenchmarkTools [6e4b80f9-dd63-53aa-95a3-0cdb28fa8baf]\n",
      "└ @ Base loading.jl:1273\n"
     ]
    }
   ],
   "source": [
    "import Pudley #,  Pandas, Seaborn\n",
    "const pdl = Pudley\n",
    "using BenchmarkTools"
   ]
  },
  {
   "cell_type": "code",
   "execution_count": 4,
   "metadata": {},
   "outputs": [
    {
     "data": {
      "text/plain": [
       "Pudley.Agent_o(1, 1, (0.0, 1.0), 0.7402695872656896991514940964407287538051605224609375, 0.1)"
      ]
     },
     "execution_count": 4,
     "metadata": {},
     "output_type": "execute_result"
    }
   ],
   "source": [
    "pdl.Agent_o(1, 1, 0.1, (0.,1.))"
   ]
  },
  {
   "cell_type": "code",
   "execution_count": 5,
   "metadata": {},
   "outputs": [
    {
     "data": {
      "text/plain": [
       "Pudley.Agent_o(0, 0, (-5, 5), -4.742437870736662119952598004601895809173583984375, 0.1)"
      ]
     },
     "execution_count": 5,
     "metadata": {},
     "output_type": "execute_result"
    }
   ],
   "source": [
    "pdl.Agent_o()"
   ]
  },
  {
   "cell_type": "code",
   "execution_count": 6,
   "metadata": {},
   "outputs": [
    {
     "data": {
      "text/plain": [
       "GraphSpace with 10 nodes and 45 edges"
      ]
     },
     "execution_count": 6,
     "metadata": {},
     "output_type": "execute_result"
    }
   ],
   "source": [
    "pdl.space(10)"
   ]
  },
  {
   "cell_type": "code",
   "execution_count": 7,
   "metadata": {},
   "outputs": [
    {
     "data": {
      "text/latex": [
       "\\begin{verbatim}\n",
       "complete_graph(n)\n",
       "\\end{verbatim}\n",
       "Create an undirected \\href{https://en.wikipedia.org/wiki/Complete_graph}{complete graph} with \\texttt{n} vertices.\n",
       "\n",
       "\\section{Examples}\n",
       "\\begin{verbatim}\n",
       "julia> complete_graph(5)\n",
       "{5, 10} undirected simple Int64 graph\n",
       "\n",
       "julia> complete_graph(Int8(6))\n",
       "{6, 15} undirected simple Int8 graph\n",
       "\\end{verbatim}\n"
      ],
      "text/markdown": [
       "```\n",
       "complete_graph(n)\n",
       "```\n",
       "\n",
       "Create an undirected [complete graph](https://en.wikipedia.org/wiki/Complete_graph) with `n` vertices.\n",
       "\n",
       "# Examples\n",
       "\n",
       "```jldoctest\n",
       "julia> complete_graph(5)\n",
       "{5, 10} undirected simple Int64 graph\n",
       "\n",
       "julia> complete_graph(Int8(6))\n",
       "{6, 15} undirected simple Int8 graph\n",
       "```\n"
      ],
      "text/plain": [
       "\u001b[36m  complete_graph(n)\u001b[39m\n",
       "\n",
       "  Create an undirected complete graph\n",
       "  (https://en.wikipedia.org/wiki/Complete_graph) with \u001b[36mn\u001b[39m vertices.\n",
       "\n",
       "\u001b[1m  Examples\u001b[22m\n",
       "\u001b[1m  ≡≡≡≡≡≡≡≡≡≡\u001b[22m\n",
       "\n",
       "\u001b[36m  julia> complete_graph(5)\u001b[39m\n",
       "\u001b[36m  {5, 10} undirected simple Int64 graph\u001b[39m\n",
       "\u001b[36m  \u001b[39m\n",
       "\u001b[36m  julia> complete_graph(Int8(6))\u001b[39m\n",
       "\u001b[36m  {6, 15} undirected simple Int8 graph\u001b[39m"
      ]
     },
     "execution_count": 7,
     "metadata": {},
     "output_type": "execute_result"
    }
   ],
   "source": [
    "@doc pdl.LG.complete_graph()"
   ]
  },
  {
   "cell_type": "code",
   "execution_count": 8,
   "metadata": {},
   "outputs": [
    {
     "data": {
      "text/plain": [
       "AgentBasedModel with 0 agents of type Agent_o\n",
       " space: GraphSpace with 10 nodes and 45 edges\n",
       " scheduler: fastest"
      ]
     },
     "execution_count": 8,
     "metadata": {},
     "output_type": "execute_result"
    }
   ],
   "source": [
    "pdl.Abm.ABM(pdl.Agent_o, pdl.space(10))"
   ]
  },
  {
   "cell_type": "code",
   "execution_count": 9,
   "metadata": {},
   "outputs": [
    {
     "data": {
      "text/plain": [
       "AgentBasedModel with 0 agents of type Agent_o\n",
       " space: GraphSpace with 10 nodes and 45 edges\n",
       " scheduler: fastest"
      ]
     },
     "execution_count": 9,
     "metadata": {},
     "output_type": "execute_result"
    }
   ],
   "source": [
    "m = pdl.model(10)"
   ]
  },
  {
   "cell_type": "code",
   "execution_count": 14,
   "metadata": {},
   "outputs": [
    {
     "name": "stdout",
     "output_type": "stream",
     "text": [
      "Variables\n",
      "  #self#\u001b[36m::Core.Compiler.Const(Pudley.model, false)\u001b[39m\n",
      "  n\u001b[36m::Int64\u001b[39m\n",
      "\n",
      "Body\u001b[36m::Agents.AgentBasedModel{Pudley.Agent_o,Agents.GraphSpace{LightGraphs.SimpleGraphs.SimpleGraph{Int64}},typeof(Agents.fastest),Nothing}\u001b[39m\n",
      "\u001b[90m1 ─\u001b[39m %1 = Pudley.space(n)\u001b[36m::Agents.GraphSpace{LightGraphs.SimpleGraphs.SimpleGraph{Int64}}\u001b[39m\n",
      "\u001b[90m│  \u001b[39m %2 = Agents.fastest\u001b[36m::Core.Compiler.Const(Agents.fastest, false)\u001b[39m\n",
      "\u001b[90m│  \u001b[39m %3 = Pudley.model(Pudley.Agent_o, %1, %2)\u001b[36m::Agents.AgentBasedModel{Pudley.Agent_o,Agents.GraphSpace{LightGraphs.SimpleGraphs.SimpleGraph{Int64}},typeof(Agents.fastest),Nothing}\u001b[39m\n",
      "\u001b[90m└──\u001b[39m      return %3\n"
     ]
    }
   ],
   "source": [
    "@code_warntype pdl.model(10)"
   ]
  },
  {
   "cell_type": "code",
   "execution_count": 24,
   "metadata": {},
   "outputs": [
    {
     "name": "stdout",
     "output_type": "stream",
     "text": [
      "  1.170 μs (53 allocations: 2.30 KiB)\n"
     ]
    },
    {
     "data": {
      "text/plain": [
       "10-element Array{Pudley.Agent_o,1}:\n",
       " Pudley.Agent_o(1, 1, (-5, 5), 1.86779583329549581094397581182420253753662109375, 0.1)     \n",
       " Pudley.Agent_o(2, 2, (-5, 5), -3.5506771561531724756832772982306778430938720703125, 0.1)  \n",
       " Pudley.Agent_o(3, 3, (-5, 5), 4.0699755339100480711067575612105429172515869140625, 0.1)   \n",
       " Pudley.Agent_o(4, 4, (-5, 5), -3.062817746413111219538905061199329793453216552734375, 0.1)\n",
       " Pudley.Agent_o(5, 5, (-5, 5), 0.9688877114323002359697056817822158336639404296875, 0.1)   \n",
       " Pudley.Agent_o(6, 6, (-5, 5), -0.78106039345536171225603538914583623409271240234375, 0.1) \n",
       " Pudley.Agent_o(7, 7, (-5, 5), 1.695690175258103948863208643160760402679443359375, 0.1)    \n",
       " Pudley.Agent_o(8, 8, (-5, 5), 2.0881274292727081132170496857725083827972412109375, 0.1)   \n",
       " Pudley.Agent_o(9, 9, (-5, 5), 4.9661709762790025024514761753380298614501953125, 0.1)      \n",
       " Pudley.Agent_o(10, 10, (-5, 5), 1.920347575434046660802778205834329128265380859375, 0.1)  "
      ]
     },
     "execution_count": 24,
     "metadata": {},
     "output_type": "execute_result"
    }
   ],
   "source": [
    "@btime pdl.createpop(pdl.Agent_o, 0.1, (-5, 5), 10)"
   ]
  },
  {
   "cell_type": "code",
   "execution_count": null,
   "metadata": {},
   "outputs": [],
   "source": []
  }
 ],
 "metadata": {
  "kernelspec": {
   "display_name": "Julia 1.3.0",
   "language": "julia",
   "name": "julia-1.3"
  },
  "language_info": {
   "file_extension": ".jl",
   "mimetype": "application/julia",
   "name": "julia",
   "version": "1.3.0"
  }
 },
 "nbformat": 4,
 "nbformat_minor": 4
}
