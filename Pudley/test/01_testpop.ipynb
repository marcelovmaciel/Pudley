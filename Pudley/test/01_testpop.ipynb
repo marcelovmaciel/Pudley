{
 "cells": [
  {
   "cell_type": "code",
   "execution_count": 1,
   "metadata": {},
   "outputs": [
    {
     "name": "stdout",
     "output_type": "stream",
     "text": [
      "\u001b[32m\u001b[1mActivating\u001b[22m\u001b[39m environment at `/mnt/c/Users/mvmaciel/Desktop/Pudley/Pudley/Project.toml`\n",
      "\u001b[32m\u001b[1mPrecompiling\u001b[22m\u001b[39m project...\n",
      "\u001b[32m\u001b[1mPrecompiling\u001b[22m\u001b[39m Pudley\n"
     ]
    },
    {
     "name": "stderr",
     "output_type": "stream",
     "text": [
      "┌ Info: Precompiling Pudley [522bdeae-2d8d-4df1-be2c-fb33332a93f2]\n",
      "└ @ Base loading.jl:1273\n"
     ]
    }
   ],
   "source": [
    "import Pkg\n",
    "\n",
    "\n",
    "import Revise\n",
    "\n",
    "Pkg.activate(\"../../Pudley\")\n",
    "Pkg.precompile()"
   ]
  },
  {
   "cell_type": "code",
   "execution_count": 2,
   "metadata": {},
   "outputs": [
    {
     "data": {
      "text/plain": [
       "Pudley"
      ]
     },
     "execution_count": 2,
     "metadata": {},
     "output_type": "execute_result"
    }
   ],
   "source": [
    "import Pudley #,  Pandas, Seaborn\n",
    "const pdl = Pudley"
   ]
  },
  {
   "cell_type": "code",
   "execution_count": 3,
   "metadata": {},
   "outputs": [
    {
     "data": {
      "text/plain": [
       "Pudley.Agent_o(1, 1, (0.0, 1.0), 0.8838157872326941610907624635729007422924041748046875, 0.1)"
      ]
     },
     "execution_count": 3,
     "metadata": {},
     "output_type": "execute_result"
    }
   ],
   "source": [
    "pdl.Agent_o(1, 1, 0.1, (0.,1.))"
   ]
  },
  {
   "cell_type": "code",
   "execution_count": 4,
   "metadata": {},
   "outputs": [
    {
     "data": {
      "text/plain": [
       "Pudley.Agent_o(0, 0, (-5, 5), -2.009386330484963512077456471160985529422760009765625, 0.1)"
      ]
     },
     "execution_count": 4,
     "metadata": {},
     "output_type": "execute_result"
    }
   ],
   "source": [
    "pdl.Agent_o()"
   ]
  },
  {
   "cell_type": "code",
   "execution_count": 5,
   "metadata": {},
   "outputs": [
    {
     "data": {
      "text/plain": [
       "GraphSpace with 10 nodes and 45 edges"
      ]
     },
     "execution_count": 5,
     "metadata": {},
     "output_type": "execute_result"
    }
   ],
   "source": [
    "pdl.space(10)"
   ]
  },
  {
   "cell_type": "code",
   "execution_count": 6,
   "metadata": {},
   "outputs": [
    {
     "data": {
      "text/latex": [
       "\\begin{verbatim}\n",
       "complete_graph(n)\n",
       "\\end{verbatim}\n",
       "Create an undirected \\href{https://en.wikipedia.org/wiki/Complete_graph}{complete graph} with \\texttt{n} vertices.\n",
       "\n",
       "\\section{Examples}\n",
       "\\begin{verbatim}\n",
       "julia> complete_graph(5)\n",
       "{5, 10} undirected simple Int64 graph\n",
       "\n",
       "julia> complete_graph(Int8(6))\n",
       "{6, 15} undirected simple Int8 graph\n",
       "\\end{verbatim}\n"
      ],
      "text/markdown": [
       "```\n",
       "complete_graph(n)\n",
       "```\n",
       "\n",
       "Create an undirected [complete graph](https://en.wikipedia.org/wiki/Complete_graph) with `n` vertices.\n",
       "\n",
       "# Examples\n",
       "\n",
       "```jldoctest\n",
       "julia> complete_graph(5)\n",
       "{5, 10} undirected simple Int64 graph\n",
       "\n",
       "julia> complete_graph(Int8(6))\n",
       "{6, 15} undirected simple Int8 graph\n",
       "```\n"
      ],
      "text/plain": [
       "\u001b[36m  complete_graph(n)\u001b[39m\n",
       "\n",
       "  Create an undirected complete graph\n",
       "  (https://en.wikipedia.org/wiki/Complete_graph) with \u001b[36mn\u001b[39m vertices.\n",
       "\n",
       "\u001b[1m  Examples\u001b[22m\n",
       "\u001b[1m  ≡≡≡≡≡≡≡≡≡≡\u001b[22m\n",
       "\n",
       "\u001b[36m  julia> complete_graph(5)\u001b[39m\n",
       "\u001b[36m  {5, 10} undirected simple Int64 graph\u001b[39m\n",
       "\u001b[36m  \u001b[39m\n",
       "\u001b[36m  julia> complete_graph(Int8(6))\u001b[39m\n",
       "\u001b[36m  {6, 15} undirected simple Int8 graph\u001b[39m"
      ]
     },
     "execution_count": 6,
     "metadata": {},
     "output_type": "execute_result"
    }
   ],
   "source": [
    "@doc pdl.LG.complete_graph()"
   ]
  },
  {
   "cell_type": "code",
   "execution_count": 7,
   "metadata": {},
   "outputs": [
    {
     "data": {
      "text/plain": [
       "AgentBasedModel with 0 agents of type Agent_o\n",
       " space: GraphSpace with 10 nodes and 45 edges\n",
       " scheduler: fastest"
      ]
     },
     "execution_count": 7,
     "metadata": {},
     "output_type": "execute_result"
    }
   ],
   "source": [
    "pdl.Abm.ABM(pdl.Agent_o, pdl.space(10))"
   ]
  },
  {
   "cell_type": "code",
   "execution_count": 9,
   "metadata": {},
   "outputs": [
    {
     "data": {
      "text/plain": [
       "AgentBasedModel with 0 agents of type Agent_o\n",
       " space: GraphSpace with 10 nodes and 45 edges\n",
       " scheduler: fastest"
      ]
     },
     "execution_count": 9,
     "metadata": {},
     "output_type": "execute_result"
    }
   ],
   "source": [
    "pdl.model(10)"
   ]
  },
  {
   "cell_type": "code",
   "execution_count": null,
   "metadata": {},
   "outputs": [],
   "source": []
  }
 ],
 "metadata": {
  "kernelspec": {
   "display_name": "Julia 1.3.0",
   "language": "julia",
   "name": "julia-1.3"
  },
  "language_info": {
   "file_extension": ".jl",
   "mimetype": "application/julia",
   "name": "julia",
   "version": "1.3.0"
  }
 },
 "nbformat": 4,
 "nbformat_minor": 4
}
