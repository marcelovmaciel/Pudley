{
 "cells": [
  {
   "cell_type": "code",
   "execution_count": 4,
   "metadata": {},
   "outputs": [],
   "source": [
    "using Agents\n",
    "using Distributions\n",
    "using LightGraphs\n",
    "using BenchmarkTools"
   ]
  },
  {
   "cell_type": "markdown",
   "metadata": {},
   "source": [
    "Hegselmann & Krause (2002)assumed instead that all agents in the population influence each other simultaneously. In their model, everyagentiadopts in one time step the average opinion of all those whose disagreement withidid not exceed  $\\epsilon$ before the interaction. "
   ]
  },
  {
   "cell_type": "code",
   "execution_count": 11,
   "metadata": {},
   "outputs": [
    {
     "data": {
      "text/plain": [
       "hk_model (generic function with 1 method)"
      ]
     },
     "execution_count": 11,
     "metadata": {},
     "output_type": "execute_result"
    }
   ],
   "source": [
    "mutable struct HKAgent{T<:AbstractFloat} <: AbstractAgent\n",
    "    id::Int\n",
    "    old_opinion::T\n",
    "    new_opinion::T\n",
    "end\n",
    "myscheduler(m) = keys(m.agents)\n",
    "\n",
    "function hk_model(;numagents = 100, ϵ=0.3)\n",
    "    model = ABM(HKAgent, scheduler=myscheduler , properties = Dict(:ϵ => ϵ))\n",
    "    for i in 1:numagents\n",
    "        add_agent!(model, rand(), rand())\n",
    "    end\n",
    "    return model\n",
    "end\n"
   ]
  },
  {
   "cell_type": "code",
   "execution_count": 12,
   "metadata": {},
   "outputs": [
    {
     "data": {
      "text/plain": [
       "AgentBasedModel with 1000 agents of type HKAgent\n",
       " no space\n",
       " scheduler: myscheduler\n",
       " properties: Dict(:ϵ => 0.3)"
      ]
     },
     "execution_count": 12,
     "metadata": {},
     "output_type": "execute_result"
    }
   ],
   "source": [
    "m = hk_model(numagents = 1000, ϵ=0.3)"
   ]
  },
  {
   "cell_type": "code",
   "execution_count": 13,
   "metadata": {},
   "outputs": [
    {
     "data": {
      "text/plain": [
       "model_step! (generic function with 1 method)"
      ]
     },
     "execution_count": 13,
     "metadata": {},
     "output_type": "execute_result"
    }
   ],
   "source": [
    "get_old_opinion(agent)= agent.old_opinion\n",
    "\n",
    "function agent_step!(agent, model)\n",
    "    oldopinions = map(get_old_opinion, values(model.agents))\n",
    "    agent.new_opinion =  mean(filter(j -> abs(get_old_opinion(agent) - j) < model.properties[:ϵ], oldopinions))\n",
    "end\n",
    "\n",
    "function model_step!(model)\n",
    "    for i in keys(model.agents)\n",
    "        model.agents[i].old_opinion = model.agents[i].new_opinion\n",
    "    end\n",
    "end"
   ]
  },
  {
   "cell_type": "code",
   "execution_count": 20,
   "metadata": {},
   "outputs": [
    {
     "data": {
      "text/plain": [
       "1-element Array{Symbol,1}:\n",
       " :old_opinion"
      ]
     },
     "execution_count": 20,
     "metadata": {},
     "output_type": "execute_result"
    }
   ],
   "source": [
    "m = hk_model(numagents = 1000, ϵ=0.3)\n",
    "when = map(i -> floor(Int, i),\n",
    "           collect(range(0,step= 1000,stop = 20_000)))\n",
    "\n",
    "agent_properties = [:old_opinion]\n",
    "# data = step!(m,\n",
    "#               agent_step!,model_step!,\n",
    "#               20_000, agent_properties, when = when) "
   ]
  },
  {
   "cell_type": "code",
   "execution_count": null,
   "metadata": {},
   "outputs": [],
   "source": [
    "@btime step!(m,\n",
    "              agent_step!,model_step!,\n",
    "              10, agent_properties, when = when) "
   ]
  },
  {
   "cell_type": "code",
   "execution_count": null,
   "metadata": {},
   "outputs": [],
   "source": []
  }
 ],
 "metadata": {
  "kernelspec": {
   "display_name": "Julia 1.3.0",
   "language": "julia",
   "name": "julia-1.3"
  },
  "language_info": {
   "file_extension": ".jl",
   "mimetype": "application/julia",
   "name": "julia",
   "version": "1.3.0"
  }
 },
 "nbformat": 4,
 "nbformat_minor": 4
}
